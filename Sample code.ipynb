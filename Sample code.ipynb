{
 "cells": [
  {
   "cell_type": "code",
   "execution_count": 15,
   "id": "074341a7",
   "metadata": {},
   "outputs": [
    {
     "name": "stdout",
     "output_type": "stream",
     "text": [
      "[2, 8, 10.2, 9.0]\n",
      "['a', 'B', '3.14', 'cat', 'dog', '9', 'foo', 'ten', 'dog', 'buzz', 'x', 'y', '1000']\n"
     ]
    }
   ],
   "source": [
    "data= ['a', 'B', '3.14', 'cat', 'dog', 2, 8, '9', 'foo', 'ten', 10.2, 'dog', 9.0, 'buzz', 'x', 'y', '1000']\n",
    "number=[];\n",
    "text=[];\n",
    "for item in data:\n",
    "    if (isinstance(item,(int,float))):\n",
    "        number.append(item)\n",
    "    else:\n",
    "        text.append(item)\n",
    "print(number)\n",
    "print(text)\n",
    "assert len(number) == 4\n",
    "assert len(text) == 13"
   ]
  },
  {
   "cell_type": "code",
   "execution_count": 11,
   "id": "f70378f1",
   "metadata": {},
   "outputs": [
    {
     "name": "stdout",
     "output_type": "stream",
     "text": [
      "['a', 'B', '3.14', 'cat', 'dog', 2, 8, '9', 'foo', 'ten', 10.2, 'dog', 9.0, 'buzz', 'x', 'y', '1000']\n",
      "[]\n"
     ]
    }
   ],
   "source": [
    "data= ['a', 'B', '3.14', 'cat', 'dog', 2, 8, '9', 'foo', 'ten', 10.2, 'dog', 9.0, 'buzz', 'x', 'y', '1000']\n",
    "number=[];\n",
    "text=[];\n",
    "for item in data:\n",
    "    if (isinstance(item,(int,float,str))):\n",
    "        number.append(item)\n",
    "    else:\n",
    "        text.append(item)\n",
    "print(number)\n",
    "print(text)\n"
   ]
  },
  {
   "cell_type": "code",
   "execution_count": 3,
   "id": "3044d339",
   "metadata": {},
   "outputs": [
    {
     "name": "stdout",
     "output_type": "stream",
     "text": [
      "[False, False, True, False, False, 2, 8, True, False, False, 10.2, False, 9.0, False, False, False, True]\n",
      "[]\n"
     ]
    }
   ],
   "source": [
    "data= ['a', 'B', '3.14', 'cat', 'dog', 2, 8, '9', 'foo', 'ten', 10.2, 'dog', 9.0, 'buzz', 'x', 'y', '1000']\n",
    "number=[];\n",
    "text=[];\n",
    "for item in data:\n",
    "    if (isinstance(item,(int,float))):\n",
    "        number.append(item)\n",
    "    elif(isinstance(item,str)):\n",
    "        res= item.replace('.',' ',1).isdigit()\n",
    "        number.append(res)\n",
    "    else:\n",
    "        text.append(item)\n",
    "print(number)\n",
    "print(text)"
   ]
  },
  {
   "cell_type": "code",
   "execution_count": 4,
   "id": "fed56c1a",
   "metadata": {},
   "outputs": [
    {
     "name": "stdout",
     "output_type": "stream",
     "text": [
      "[False, False, False, False, False, 2, 8, True, False, False, 10.2, False, 9.0, False, False, False, True]\n",
      "[]\n"
     ]
    }
   ],
   "source": [
    "data= ['a', 'B', '3.14', 'cat', 'dog', 2, 8, '9', 'foo', 'ten', 10.2, 'dog', 9.0, 'buzz', 'x', 'y', '1000']\n",
    "number=[];\n",
    "text=[];\n",
    "new_n = [int(g) for g in data]\n",
    "print(new_n)\n",
    "for item in data:\n",
    "    if (isinstance(item,(int,float))):\n",
    "        number.append(item)\n",
    "    elif(isinstance(item,str)):\n",
    "        res= item.replace('.',' ',1).isdigit()\n",
    "        number.append(res)\n",
    "    else:\n",
    "        text.append(item)\n",
    "print(number)\n",
    "print(text)"
   ]
  },
  {
   "cell_type": "code",
   "execution_count": 1,
   "id": "aafe0c82",
   "metadata": {},
   "outputs": [
    {
     "data": {
      "text/plain": [
       "str"
      ]
     },
     "execution_count": 1,
     "metadata": {},
     "output_type": "execute_result"
    }
   ],
   "source": [
    "a='f'\n",
    "type(a)\n"
   ]
  },
  {
   "cell_type": "code",
   "execution_count": 2,
   "id": "35d1fea1",
   "metadata": {},
   "outputs": [
    {
     "data": {
      "text/plain": [
       "str"
      ]
     },
     "execution_count": 2,
     "metadata": {},
     "output_type": "execute_result"
    }
   ],
   "source": [
    "b='5.45'\n",
    "type(b)"
   ]
  },
  {
   "cell_type": "code",
   "execution_count": 3,
   "id": "dc4f6c23",
   "metadata": {},
   "outputs": [
    {
     "data": {
      "text/plain": [
       "5.45"
      ]
     },
     "execution_count": 3,
     "metadata": {},
     "output_type": "execute_result"
    }
   ],
   "source": [
    "float(b)"
   ]
  },
  {
   "cell_type": "code",
   "execution_count": 4,
   "id": "dc659503",
   "metadata": {},
   "outputs": [
    {
     "data": {
      "text/plain": [
       "str"
      ]
     },
     "execution_count": 4,
     "metadata": {},
     "output_type": "execute_result"
    }
   ],
   "source": [
    "c='jaa'\n",
    "type(c)"
   ]
  },
  {
   "cell_type": "code",
   "execution_count": 6,
   "id": "2428755c",
   "metadata": {},
   "outputs": [
    {
     "name": "stdout",
     "output_type": "stream",
     "text": [
      "[False, False, False, False, False, 2, 8, True, False, False, 10.2, False, 9.0, False, False, False, True]\n",
      "[]\n"
     ]
    }
   ],
   "source": [
    "data= ['a', 'B', '3.14', 'cat', 'dog', 2, 8, '9', 'foo', 'ten', 10.2, 'dog', 9.0, 'buzz', 'x', 'y', '1000']\n",
    "number=[];\n",
    "text=[];\n",
    "for item in data:\n",
    "    if (isinstance(item,(int,float))):\n",
    "        number.append(item)\n",
    "    elif(isinstance(item,str)):\n",
    "        res= item.replace('.',' ',1)\n",
    "        number.append(res)\n",
    "    else:\n",
    "        text.append(item)\n",
    "print(number)\n",
    "print(text)"
   ]
  },
  {
   "cell_type": "code",
   "execution_count": 5,
   "id": "73f84af0",
   "metadata": {},
   "outputs": [
    {
     "name": "stdout",
     "output_type": "stream",
     "text": [
      "[2, 8, '9', 10.2, 9.0, '1000']\n",
      "['a', 'B', '3.14', 'cat', 'dog', 'foo', 'ten', 'dog', 'buzz', 'x', 'y']\n"
     ]
    }
   ],
   "source": [
    "data= ['a', 'B', '3.14', 'cat', 'dog', 2, 8, '9', 'foo', 'ten', 10.2, 'dog', 9.0, 'buzz', 'x', 'y', '1000']\n",
    "number=[];\n",
    "text=[];\n",
    "for item in data:\n",
    "    if (isinstance(item,(int,float))):\n",
    "        number.append(item)\n",
    "    elif(item.isnumeric()):\n",
    "        number.append(item)\n",
    "    else:\n",
    "        text.append(item)\n",
    "print(number)\n",
    "print(text)"
   ]
  },
  {
   "cell_type": "code",
   "execution_count": 18,
   "id": "cd10291d",
   "metadata": {},
   "outputs": [
    {
     "name": "stdout",
     "output_type": "stream",
     "text": [
      "['a', 'B', '3.14', 'cat', 'dog', 2, 8, '9', 'foo', 'ten', 10.2, 'dog', 9.0, 'buzz', 'x', 'y', '1000']\n",
      "[]\n"
     ]
    }
   ],
   "source": [
    "data= ['a', 'B', '3.14', 'cat', 'dog', 2, 8, '9', 'foo', 'ten', 10.2, 'dog', 9.0, 'buzz', 'x', 'y', '1000']\n",
    "number=[];\n",
    "text=[];\n",
    "for item in data:\n",
    "    if (isinstance(item,(int,float))):\n",
    "        number.append(item)\n",
    "    elif(isinstance(item,str)):\n",
    "        res= item.replace(' ',' ',1)\n",
    "        number.append(res)\n",
    "    else:\n",
    "        text.append(item)\n",
    "print(number)\n",
    "print(text)"
   ]
  },
  {
   "cell_type": "code",
   "execution_count": 14,
   "id": "d410a1f6",
   "metadata": {},
   "outputs": [
    {
     "name": "stdout",
     "output_type": "stream",
     "text": [
      "[2.0, 8.0, 9.0, 10.2, 9.0, 1000.0]\n",
      "['a', 'B', '3.14', 'cat', 'dog', 'foo', 'ten', 'dog', 'buzz', 'x', 'y']\n"
     ]
    }
   ],
   "source": [
    "data= ['a', 'B', '3.14', 'cat', 'dog', 2, 8, '9', 'foo', 'ten', 10.2, 'dog', 9.0, 'buzz', 'x', 'y', '1000']\n",
    "number=[];\n",
    "text=[];\n",
    "for item in data:\n",
    "    if (isinstance(item,(int,float))):\n",
    "        item=float(item)\n",
    "        number.append(item)\n",
    "    elif(item.isnumeric()):\n",
    "        item=float(item)\n",
    "        number.append(item)\n",
    "    else:\n",
    "        text.append(item)\n",
    "print(number)\n",
    "print(text)"
   ]
  },
  {
   "cell_type": "code",
   "execution_count": 1,
   "id": "1a666c96",
   "metadata": {},
   "outputs": [
    {
     "name": "stdout",
     "output_type": "stream",
     "text": [
      "[3.14, 2, 8, 9, 10, 9, 1000]\n",
      "['a', 'B', 'cat', 'dog', 'foo', 'ten', 'dog', 'buzz', 'x', 'y']\n"
     ]
    }
   ],
   "source": [
    "data= ['a', 'B', '3.14', 'cat', 'dog', 2, 8, '9', 'foo', 'ten', 10.2, 'dog', 9.0, 'buzz', 'x', 'y', '1000']\n",
    "number=[];\n",
    "text=[];\n",
    "for item in data:\n",
    "    if (isinstance(item,(int,float)) or item.isnumeric()):\n",
    "        item= int(item)\n",
    "        number.append(item)\n",
    "    elif '.' in item:\n",
    "        item=float(item)\n",
    "        number.append(item)\n",
    "    else:\n",
    "        text.append(item)\n",
    "print(number)\n",
    "print(text)"
   ]
  },
  {
   "cell_type": "code",
   "execution_count": null,
   "id": "44bcdf22",
   "metadata": {},
   "outputs": [],
   "source": []
  }
 ],
 "metadata": {
  "kernelspec": {
   "display_name": "Python 3 (ipykernel)",
   "language": "python",
   "name": "python3"
  },
  "language_info": {
   "codemirror_mode": {
    "name": "ipython",
    "version": 3
   },
   "file_extension": ".py",
   "mimetype": "text/x-python",
   "name": "python",
   "nbconvert_exporter": "python",
   "pygments_lexer": "ipython3",
   "version": "3.7.12"
  }
 },
 "nbformat": 4,
 "nbformat_minor": 5
}
